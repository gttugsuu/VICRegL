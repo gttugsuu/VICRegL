{
 "cells": [
  {
   "cell_type": "code",
   "execution_count": 1,
   "id": "288a6a09",
   "metadata": {},
   "outputs": [],
   "source": [
    "import json"
   ]
  },
  {
   "cell_type": "code",
   "execution_count": 2,
   "id": "0ff8625e",
   "metadata": {},
   "outputs": [],
   "source": [
    "import matplotlib.pyplot as plt\n",
    "import seaborn as sns"
   ]
  },
  {
   "cell_type": "code",
   "execution_count": 3,
   "id": "9a8278dc",
   "metadata": {},
   "outputs": [],
   "source": [
    "import pandas as pd"
   ]
  },
  {
   "cell_type": "code",
   "execution_count": 4,
   "id": "e5ea4aff",
   "metadata": {},
   "outputs": [],
   "source": [
    "with open('../output/bbbc021_from_server/stats.txt') as f:\n",
    "    lines = f.readlines()"
   ]
  },
  {
   "cell_type": "code",
   "execution_count": 5,
   "id": "127a6d7b",
   "metadata": {},
   "outputs": [],
   "source": [
    "statlines = []\n",
    "for line in lines:\n",
    "    if line[0] == '{':\n",
    "        statlines.append(json.loads(line))"
   ]
  },
  {
   "cell_type": "code",
   "execution_count": 6,
   "id": "776a5e77",
   "metadata": {},
   "outputs": [],
   "source": [
    "try: \n",
    "    ep = [b['ep'] for b in statlines] \n",
    "except:pass\n",
    "try: \n",
    "    st = [b['st'] for b in statlines] \n",
    "except:pass\n",
    "try: \n",
    "    lr = [b['lr'] for b in statlines] \n",
    "except:pass\n",
    "try: \n",
    "    t = [b['t'] for b in statlines] \n",
    "except:pass\n",
    "try: \n",
    "    stdr = [b['stdr'] for b in statlines] \n",
    "except:pass\n",
    "try: \n",
    "    stde = [b['stde'] for b in statlines] \n",
    "except:pass\n",
    "try: \n",
    "    corr = [b['corr'] for b in statlines] \n",
    "except:pass\n",
    "try: \n",
    "    core = [b['core'] for b in statlines] \n",
    "except:pass\n",
    "try: \n",
    "    inv_l = [b['inv_l'] for b in statlines] \n",
    "except:pass\n",
    "try: \n",
    "    var_l = [b['var_l'] for b in statlines] \n",
    "except:pass\n",
    "try: \n",
    "    cov_l = [b['cov_l'] for b in statlines] \n",
    "except:pass\n",
    "try: \n",
    "    minv_l = [b['minv_l'] for b in statlines] \n",
    "except:pass\n",
    "try: \n",
    "    mvar_l = [b['mvar_l'] for b in statlines] \n",
    "except:pass\n",
    "try: \n",
    "    mcov_l = [b['mcov_l'] for b in statlines] \n",
    "except:pass\n",
    "try: \n",
    "    cls_l = [b['cls_l'] for b in statlines] \n",
    "except:pass\n",
    "try: \n",
    "    top1 = [b['top1'] for b in statlines] \n",
    "except:pass\n",
    "try: \n",
    "    top5 = [b['top5'] for b in statlines] \n",
    "except:pass\n",
    "try: \n",
    "    l = [b['l'] for b in statlines] \n",
    "except:pass"
   ]
  },
  {
   "cell_type": "code",
   "execution_count": 18,
   "id": "34a11084",
   "metadata": {},
   "outputs": [],
   "source": [
    "stats = pd.DataFrame()"
   ]
  },
  {
   "cell_type": "code",
   "execution_count": 19,
   "id": "e2f91bf4",
   "metadata": {},
   "outputs": [],
   "source": [
    "try: \n",
    "    stats['ep'] = ep\n",
    "except:\n",
    "    pass\n",
    "try: \n",
    "    stats['st'] = st\n",
    "except:\n",
    "    pass\n",
    "try: \n",
    "    stats['lr'] = lr\n",
    "except:\n",
    "    pass\n",
    "try: \n",
    "    stats['t'] = t\n",
    "except:\n",
    "    pass\n",
    "try: \n",
    "    stats['stdr'] = stdr\n",
    "except:\n",
    "    pass\n",
    "try: \n",
    "    stats['stde'] = stde\n",
    "except:\n",
    "    pass\n",
    "try: \n",
    "    stats['corr'] = corr\n",
    "except:\n",
    "    pass\n",
    "try: \n",
    "    stats['core'] = core\n",
    "except:\n",
    "    pass\n",
    "try: \n",
    "    stats['inv_l'] = inv_l\n",
    "except:\n",
    "    pass\n",
    "try: \n",
    "    stats['var_l'] = var_l\n",
    "except:\n",
    "    pass\n",
    "try: \n",
    "    stats['cov_l'] = cov_l\n",
    "except:\n",
    "    pass\n",
    "try: \n",
    "    stats['minv_l'] = minv_l\n",
    "except:\n",
    "    pass\n",
    "try: \n",
    "    stats['mvar_l'] = mvar_l\n",
    "except:\n",
    "    pass\n",
    "try: \n",
    "    stats['mcov_l'] = mcov_l\n",
    "except:\n",
    "    pass\n",
    "try: \n",
    "    stats['cls_l'] = cls_l\n",
    "except:\n",
    "    pass\n",
    "try: \n",
    "    stats['top1'] = top1\n",
    "except:\n",
    "    pass\n",
    "try: \n",
    "    stats['top5'] = top5\n",
    "except:\n",
    "    pass\n",
    "try: \n",
    "    stats['l'] = l\n",
    "except:\n",
    "    pass"
   ]
  },
  {
   "cell_type": "code",
   "execution_count": 20,
   "id": "a7922e0e",
   "metadata": {},
   "outputs": [],
   "source": [
    "stats = stats.set_index('st')"
   ]
  },
  {
   "cell_type": "code",
   "execution_count": 21,
   "id": "42512504",
   "metadata": {},
   "outputs": [
    {
     "data": {
      "text/plain": [
       "Index(['ep', 'lr', 't', 'stdr', 'stde', 'corr', 'core', 'inv_l', 'var_l',\n",
       "       'cov_l', 'minv_l', 'mvar_l', 'mcov_l', 'l'],\n",
       "      dtype='object')"
      ]
     },
     "execution_count": 21,
     "metadata": {},
     "output_type": "execute_result"
    }
   ],
   "source": [
    "stats.columns"
   ]
  },
  {
   "cell_type": "code",
   "execution_count": 22,
   "id": "b434fdd3",
   "metadata": {},
   "outputs": [
    {
     "data": {
      "image/png": "[encoded data removed]",
      "text/plain": [
       "<Figure size 864x576 with 4 Axes>"
      ]
     },
     "metadata": {},
     "output_type": "display_data"
    }
   ],
   "source": [
    "sns.set_theme(palette='pastel', style='whitegrid')\n",
    "\n",
    "fig, axes = plt.subplots(nrows=2,ncols=2, figsize=(12,8))\n",
    "sns.lineplot(data=stats['l'], ax=axes[0,0])\n",
    "axes[0,0].set_title('loss', fontsize=14)\n",
    "sns.lineplot(data=stats['inv_l'], ax=axes[0,1])\n",
    "axes[0,1].set_title('Invariance loss', fontsize=14)\n",
    "sns.lineplot(data=stats['var_l'], ax=axes[1,0])\n",
    "axes[1,0].set_title('Variance loss', fontsize=14)\n",
    "sns.lineplot(data=stats['cov_l'], ax=axes[1,1])\n",
    "axes[1,1].set_title('Covariance loss', fontsize=14)\n",
    "fig.suptitle('Training stats', fontsize=20)\n",
    "\n",
    "plt.tight_layout()"
   ]
  },
  {
   "cell_type": "code",
   "execution_count": 16,
   "id": "4c2fbbc2",
   "metadata": {},
   "outputs": [
    {
     "data": {
      "text/html": [
       "<div>\n",
       "<style scoped>\n",
       "    .dataframe tbody tr th:only-of-type {\n",
       "        vertical-align: middle;\n",
       "    }\n",
       "\n",
       "    .dataframe tbody tr th {\n",
       "        vertical-align: top;\n",
       "    }\n",
       "\n",
       "    .dataframe thead th {\n",
       "        text-align: right;\n",
       "    }\n",
       "</style>\n",
       "<table border=\"1\" class=\"dataframe\">\n",
       "  <thead>\n",
       "    <tr style=\"text-align: right;\">\n",
       "      <th></th>\n",
       "      <th>fovimagepaths</th>\n",
       "      <th>cellimagepaths</th>\n",
       "      <th>platewellsite</th>\n",
       "      <th>platewell</th>\n",
       "      <th>plate</th>\n",
       "      <th>well</th>\n",
       "      <th>Replicate</th>\n",
       "      <th>compound</th>\n",
       "      <th>concentration</th>\n",
       "      <th>moa</th>\n",
       "      <th>fovembpaths</th>\n",
       "    </tr>\n",
       "  </thead>\n",
       "  <tbody>\n",
       "    <tr>\n",
       "      <th>0</th>\n",
       "      <td>/home/gantugs/working/bbbc021_data/merged/Week...</td>\n",
       "      <td>/home/gantugs/working/bbbc021_data/merged-new-...</td>\n",
       "      <td>Week8_38342_wE04_s03</td>\n",
       "      <td>Week8_38342_wE04</td>\n",
       "      <td>Week8_38342</td>\n",
       "      <td>E04</td>\n",
       "      <td>2.0</td>\n",
       "      <td>PP-2</td>\n",
       "      <td>10.0</td>\n",
       "      <td>Epithelial</td>\n",
       "      <td>/home/gantugs/working/dino_vgg_other/fov_embed...</td>\n",
       "    </tr>\n",
       "    <tr>\n",
       "      <th>1</th>\n",
       "      <td>/home/gantugs/working/bbbc021_data/merged/Week...</td>\n",
       "      <td>/home/gantugs/working/bbbc021_data/merged-new-...</td>\n",
       "      <td>Week8_38342_wE04_s03</td>\n",
       "      <td>Week8_38342_wE04</td>\n",
       "      <td>Week8_38342</td>\n",
       "      <td>E04</td>\n",
       "      <td>2.0</td>\n",
       "      <td>PP-2</td>\n",
       "      <td>10.0</td>\n",
       "      <td>Epithelial</td>\n",
       "      <td>/home/gantugs/working/dino_vgg_other/fov_embed...</td>\n",
       "    </tr>\n",
       "    <tr>\n",
       "      <th>2</th>\n",
       "      <td>/home/gantugs/working/bbbc021_data/merged/Week...</td>\n",
       "      <td>/home/gantugs/working/bbbc021_data/merged-new-...</td>\n",
       "      <td>Week8_38342_wE04_s03</td>\n",
       "      <td>Week8_38342_wE04</td>\n",
       "      <td>Week8_38342</td>\n",
       "      <td>E04</td>\n",
       "      <td>2.0</td>\n",
       "      <td>PP-2</td>\n",
       "      <td>10.0</td>\n",
       "      <td>Epithelial</td>\n",
       "      <td>/home/gantugs/working/dino_vgg_other/fov_embed...</td>\n",
       "    </tr>\n",
       "    <tr>\n",
       "      <th>3</th>\n",
       "      <td>/home/gantugs/working/bbbc021_data/merged/Week...</td>\n",
       "      <td>/home/gantugs/working/bbbc021_data/merged-new-...</td>\n",
       "      <td>Week8_38342_wE04_s01</td>\n",
       "      <td>Week8_38342_wE04</td>\n",
       "      <td>Week8_38342</td>\n",
       "      <td>E04</td>\n",
       "      <td>2.0</td>\n",
       "      <td>PP-2</td>\n",
       "      <td>10.0</td>\n",
       "      <td>Epithelial</td>\n",
       "      <td>/home/gantugs/working/dino_vgg_other/fov_embed...</td>\n",
       "    </tr>\n",
       "    <tr>\n",
       "      <th>4</th>\n",
       "      <td>/home/gantugs/working/bbbc021_data/merged/Week...</td>\n",
       "      <td>/home/gantugs/working/bbbc021_data/merged-new-...</td>\n",
       "      <td>Week8_38342_wE04_s03</td>\n",
       "      <td>Week8_38342_wE04</td>\n",
       "      <td>Week8_38342</td>\n",
       "      <td>E04</td>\n",
       "      <td>2.0</td>\n",
       "      <td>PP-2</td>\n",
       "      <td>10.0</td>\n",
       "      <td>Epithelial</td>\n",
       "      <td>/home/gantugs/working/dino_vgg_other/fov_embed...</td>\n",
       "    </tr>\n",
       "    <tr>\n",
       "      <th>...</th>\n",
       "      <td>...</td>\n",
       "      <td>...</td>\n",
       "      <td>...</td>\n",
       "      <td>...</td>\n",
       "      <td>...</td>\n",
       "      <td>...</td>\n",
       "      <td>...</td>\n",
       "      <td>...</td>\n",
       "      <td>...</td>\n",
       "      <td>...</td>\n",
       "      <td>...</td>\n",
       "    </tr>\n",
       "    <tr>\n",
       "      <th>208196</th>\n",
       "      <td>/home/gantugs/working/bbbc021_data/merged/Week...</td>\n",
       "      <td>/home/gantugs/working/bbbc021_data/merged-new-...</td>\n",
       "      <td>Week6_31661_wB03_s04</td>\n",
       "      <td>Week6_31661_wB03</td>\n",
       "      <td>Week6_31661</td>\n",
       "      <td>B03</td>\n",
       "      <td>2.0</td>\n",
       "      <td>lactacystin</td>\n",
       "      <td>10.0</td>\n",
       "      <td>Protein degradation</td>\n",
       "      <td>/home/gantugs/working/dino_vgg_other/fov_embed...</td>\n",
       "    </tr>\n",
       "    <tr>\n",
       "      <th>208197</th>\n",
       "      <td>/home/gantugs/working/bbbc021_data/merged/Week...</td>\n",
       "      <td>/home/gantugs/working/bbbc021_data/merged-new-...</td>\n",
       "      <td>Week6_31661_wB03_s01</td>\n",
       "      <td>Week6_31661_wB03</td>\n",
       "      <td>Week6_31661</td>\n",
       "      <td>B03</td>\n",
       "      <td>2.0</td>\n",
       "      <td>lactacystin</td>\n",
       "      <td>10.0</td>\n",
       "      <td>Protein degradation</td>\n",
       "      <td>/home/gantugs/working/dino_vgg_other/fov_embed...</td>\n",
       "    </tr>\n",
       "    <tr>\n",
       "      <th>208198</th>\n",
       "      <td>/home/gantugs/working/bbbc021_data/merged/Week...</td>\n",
       "      <td>/home/gantugs/working/bbbc021_data/merged-new-...</td>\n",
       "      <td>Week6_31661_wB03_s02</td>\n",
       "      <td>Week6_31661_wB03</td>\n",
       "      <td>Week6_31661</td>\n",
       "      <td>B03</td>\n",
       "      <td>2.0</td>\n",
       "      <td>lactacystin</td>\n",
       "      <td>10.0</td>\n",
       "      <td>Protein degradation</td>\n",
       "      <td>/home/gantugs/working/dino_vgg_other/fov_embed...</td>\n",
       "    </tr>\n",
       "    <tr>\n",
       "      <th>208199</th>\n",
       "      <td>/home/gantugs/working/bbbc021_data/merged/Week...</td>\n",
       "      <td>/home/gantugs/working/bbbc021_data/merged-new-...</td>\n",
       "      <td>Week6_31661_wB03_s04</td>\n",
       "      <td>Week6_31661_wB03</td>\n",
       "      <td>Week6_31661</td>\n",
       "      <td>B03</td>\n",
       "      <td>2.0</td>\n",
       "      <td>lactacystin</td>\n",
       "      <td>10.0</td>\n",
       "      <td>Protein degradation</td>\n",
       "      <td>/home/gantugs/working/dino_vgg_other/fov_embed...</td>\n",
       "    </tr>\n",
       "    <tr>\n",
       "      <th>208200</th>\n",
       "      <td>/home/gantugs/working/bbbc021_data/merged/Week...</td>\n",
       "      <td>/home/gantugs/working/bbbc021_data/merged-new-...</td>\n",
       "      <td>Week6_31661_wB03_s04</td>\n",
       "      <td>Week6_31661_wB03</td>\n",
       "      <td>Week6_31661</td>\n",
       "      <td>B03</td>\n",
       "      <td>2.0</td>\n",
       "      <td>lactacystin</td>\n",
       "      <td>10.0</td>\n",
       "      <td>Protein degradation</td>\n",
       "      <td>/home/gantugs/working/dino_vgg_other/fov_embed...</td>\n",
       "    </tr>\n",
       "  </tbody>\n",
       "</table>\n",
       "<p>208201 rows × 11 columns</p>\n",
       "</div>"
      ],
      "text/plain": [
       "                                            fovimagepaths  \\\n",
       "0       /home/gantugs/working/bbbc021_data/merged/Week...   \n",
       "1       /home/gantugs/working/bbbc021_data/merged/Week...   \n",
       "2       /home/gantugs/working/bbbc021_data/merged/Week...   \n",
       "3       /home/gantugs/working/bbbc021_data/merged/Week...   \n",
       "4       /home/gantugs/working/bbbc021_data/merged/Week...   \n",
       "...                                                   ...   \n",
       "208196  /home/gantugs/working/bbbc021_data/merged/Week...   \n",
       "208197  /home/gantugs/working/bbbc021_data/merged/Week...   \n",
       "208198  /home/gantugs/working/bbbc021_data/merged/Week...   \n",
       "208199  /home/gantugs/working/bbbc021_data/merged/Week...   \n",
       "208200  /home/gantugs/working/bbbc021_data/merged/Week...   \n",
       "\n",
       "                                           cellimagepaths  \\\n",
       "0       /home/gantugs/working/bbbc021_data/merged-new-...   \n",
       "1       /home/gantugs/working/bbbc021_data/merged-new-...   \n",
       "2       /home/gantugs/working/bbbc021_data/merged-new-...   \n",
       "3       /home/gantugs/working/bbbc021_data/merged-new-...   \n",
       "4       /home/gantugs/working/bbbc021_data/merged-new-...   \n",
       "...                                                   ...   \n",
       "208196  /home/gantugs/working/bbbc021_data/merged-new-...   \n",
       "208197  /home/gantugs/working/bbbc021_data/merged-new-...   \n",
       "208198  /home/gantugs/working/bbbc021_data/merged-new-...   \n",
       "208199  /home/gantugs/working/bbbc021_data/merged-new-...   \n",
       "208200  /home/gantugs/working/bbbc021_data/merged-new-...   \n",
       "\n",
       "               platewellsite         platewell        plate well  Replicate  \\\n",
       "0       Week8_38342_wE04_s03  Week8_38342_wE04  Week8_38342  E04        2.0   \n",
       "1       Week8_38342_wE04_s03  Week8_38342_wE04  Week8_38342  E04        2.0   \n",
       "2       Week8_38342_wE04_s03  Week8_38342_wE04  Week8_38342  E04        2.0   \n",
       "3       Week8_38342_wE04_s01  Week8_38342_wE04  Week8_38342  E04        2.0   \n",
       "4       Week8_38342_wE04_s03  Week8_38342_wE04  Week8_38342  E04        2.0   \n",
       "...                      ...               ...          ...  ...        ...   \n",
       "208196  Week6_31661_wB03_s04  Week6_31661_wB03  Week6_31661  B03        2.0   \n",
       "208197  Week6_31661_wB03_s01  Week6_31661_wB03  Week6_31661  B03        2.0   \n",
       "208198  Week6_31661_wB03_s02  Week6_31661_wB03  Week6_31661  B03        2.0   \n",
       "208199  Week6_31661_wB03_s04  Week6_31661_wB03  Week6_31661  B03        2.0   \n",
       "208200  Week6_31661_wB03_s04  Week6_31661_wB03  Week6_31661  B03        2.0   \n",
       "\n",
       "           compound  concentration                  moa  \\\n",
       "0              PP-2           10.0           Epithelial   \n",
       "1              PP-2           10.0           Epithelial   \n",
       "2              PP-2           10.0           Epithelial   \n",
       "3              PP-2           10.0           Epithelial   \n",
       "4              PP-2           10.0           Epithelial   \n",
       "...             ...            ...                  ...   \n",
       "208196  lactacystin           10.0  Protein degradation   \n",
       "208197  lactacystin           10.0  Protein degradation   \n",
       "208198  lactacystin           10.0  Protein degradation   \n",
       "208199  lactacystin           10.0  Protein degradation   \n",
       "208200  lactacystin           10.0  Protein degradation   \n",
       "\n",
       "                                              fovembpaths  \n",
       "0       /home/gantugs/working/dino_vgg_other/fov_embed...  \n",
       "1       /home/gantugs/working/dino_vgg_other/fov_embed...  \n",
       "2       /home/gantugs/working/dino_vgg_other/fov_embed...  \n",
       "3       /home/gantugs/working/dino_vgg_other/fov_embed...  \n",
       "4       /home/gantugs/working/dino_vgg_other/fov_embed...  \n",
       "...                                                   ...  \n",
       "208196  /home/gantugs/working/dino_vgg_other/fov_embed...  \n",
       "208197  /home/gantugs/working/dino_vgg_other/fov_embed...  \n",
       "208198  /home/gantugs/working/dino_vgg_other/fov_embed...  \n",
       "208199  /home/gantugs/working/dino_vgg_other/fov_embed...  \n",
       "208200  /home/gantugs/working/dino_vgg_other/fov_embed...  \n",
       "\n",
       "[208201 rows x 11 columns]"
      ]
     },
     "execution_count": 16,
     "metadata": {},
     "output_type": "execute_result"
    }
   ],
   "source": [
    "metadata = pd.read_csv(\"/home/gantugs/working/dino_vgg_other/split_by_moa/meta_test.csv\")\n",
    "metadata"
   ]
  },
  {
   "cell_type": "code",
   "execution_count": 33,
   "id": "91ed6b44",
   "metadata": {},
   "outputs": [],
   "source": [
    "from pathlib import Path"
   ]
  },
  {
   "cell_type": "code",
   "execution_count": 34,
   "id": "80a25e41",
   "metadata": {},
   "outputs": [
    {
     "data": {
      "text/plain": [
       "'Week8_38342_wE04_s03_cell_0067'"
      ]
     },
     "execution_count": 34,
     "metadata": {},
     "output_type": "execute_result"
    }
   ],
   "source": [
    "Path(metadata.cellimagepaths[0]).stem"
   ]
  },
  {
   "cell_type": "code",
   "execution_count": 19,
   "id": "50d2d6e5",
   "metadata": {},
   "outputs": [
    {
     "data": {
      "text/plain": [
       "fovimagepaths     /home/gantugs/working/bbbc021_data/merged/Week...\n",
       "cellimagepaths    /home/gantugs/working/bbbc021_data/merged-new-...\n",
       "platewellsite                                  Week8_38342_wE04_s03\n",
       "platewell                                          Week8_38342_wE04\n",
       "plate                                                   Week8_38342\n",
       "well                                                            E04\n",
       "Replicate                                                       2.0\n",
       "compound                                                       PP-2\n",
       "concentration                                                  10.0\n",
       "moa                                                      Epithelial\n",
       "fovembpaths       /home/gantugs/working/dino_vgg_other/fov_embed...\n",
       "Name: 0, dtype: object"
      ]
     },
     "execution_count": 19,
     "metadata": {},
     "output_type": "execute_result"
    }
   ],
   "source": [
    "metadata.iloc[0,:]"
   ]
  },
  {
   "cell_type": "code",
   "execution_count": 24,
   "id": "d9121200",
   "metadata": {},
   "outputs": [],
   "source": [
    "mdict = dict(metadata.iloc[0,:])"
   ]
  },
  {
   "cell_type": "code",
   "execution_count": 27,
   "id": "b8759633",
   "metadata": {},
   "outputs": [
    {
     "data": {
      "text/plain": [
       "'/home/gantugs/working/bbbc021_data/merged/Week8_38342/Week8_38342_wE04_s03_rgb.png'"
      ]
     },
     "execution_count": 27,
     "metadata": {},
     "output_type": "execute_result"
    }
   ],
   "source": [
    "mdict['fovimagepaths']"
   ]
  }
 ],
 "metadata": {
  "kernelspec": {
   "display_name": "Python 3 (ipykernel)",
   "language": "python",
   "name": "python3"
  },
  "language_info": {
   "codemirror_mode": {
    "name": "ipython",
    "version": 3
   },
   "file_extension": ".py",
   "mimetype": "text/x-python",
   "name": "python",
   "nbconvert_exporter": "python",
   "pygments_lexer": "ipython3",
   "version": "3.8.10"
  },
  "vscode": {
   "interpreter": {
    "hash": "bbc7b1044a8c7781fecb7e1d033caa8f0305f8d930f85759ebaaf2fa08413c36"
   }
  }
 },
 "nbformat": 4,
 "nbformat_minor": 5
}
